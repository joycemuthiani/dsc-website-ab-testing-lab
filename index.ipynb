{
 "cells": [
  {
   "cell_type": "markdown",
   "metadata": {},
   "source": [
    "# Website A/B Testing - Lab\n",
    "\n",
    "## Introduction\n",
    "\n",
    "In this lab, you'll get another chance to practice your skills at conducting a full A/B test analysis. It will also be a chance to practice your data exploration and processing skills! The scenario you'll be investigating is data collected from the homepage of a music app page for audacity.\n",
    "\n",
    "## Objectives\n",
    "\n",
    "You will be able to:\n",
    "* Analyze the data from a website A/B test to draw relevant conclusions\n",
    "* Explore and analyze web action data"
   ]
  },
  {
   "cell_type": "markdown",
   "metadata": {},
   "source": [
    "## Exploratory Analysis\n",
    "\n",
    "Start by loading in the dataset stored in the file 'homepage_actions.csv'. Then conduct an exploratory analysis to get familiar with the data."
   ]
  },
  {
   "cell_type": "markdown",
   "metadata": {},
   "source": [
    "> Hints:\n",
    "    * Start investigating the id column:\n",
    "        * How many viewers also clicked?\n",
    "        * Are there any anomalies with the data; did anyone click who didn't view?\n",
    "        * Is there any overlap between the control and experiment groups? \n",
    "            * If so, how do you plan to account for this in your experimental design?"
   ]
  },
  {
   "cell_type": "code",
   "execution_count": 11,
   "metadata": {},
   "outputs": [
    {
     "name": "stdout",
     "output_type": "stream",
     "text": [
      "                    timestamp      id       group action\n",
      "0  2016-09-24 17:42:27.839496  804196  experiment   view\n",
      "1  2016-09-24 19:19:03.542569  434745  experiment   view\n",
      "2  2016-09-24 19:36:00.944135  507599  experiment   view\n",
      "3  2016-09-24 19:59:02.646620  671993     control   view\n",
      "4  2016-09-24 20:26:14.466886  536734  experiment   view\n",
      "<class 'pandas.core.frame.DataFrame'>\n",
      "RangeIndex: 8188 entries, 0 to 8187\n",
      "Data columns (total 4 columns):\n",
      " #   Column     Non-Null Count  Dtype \n",
      "---  ------     --------------  ----- \n",
      " 0   timestamp  8188 non-null   object\n",
      " 1   id         8188 non-null   int64 \n",
      " 2   group      8188 non-null   object\n",
      " 3   action     8188 non-null   object\n",
      "dtypes: int64(1), object(3)\n",
      "memory usage: 256.0+ KB\n",
      "None\n",
      "timestamp    0\n",
      "id           0\n",
      "group        0\n",
      "action       0\n",
      "dtype: int64\n",
      "Number of viewers: 6328\n",
      "Number of clickers: 1860\n",
      "Anomalies: Empty DataFrame\n",
      "Columns: [timestamp, id, group, action]\n",
      "Index: []\n",
      "Overlap between control and experiment groups: 0\n"
     ]
    }
   ],
   "source": [
    "#Your code here\n",
    "# Import necessary libraries\n",
    "import pandas as pd\n",
    "import numpy as np\n",
    "from scipy.stats import ttest_ind\n",
    "from scipy.stats import ttest_ind, norm\n",
    "\n",
    "\n",
    "\n",
    "# Load the dataset\n",
    "df = pd.read_csv('homepage_actions.csv')\n",
    "\n",
    "# Display the first few rows of the dataframe\n",
    "print(df.head())\n",
    "\n",
    "# Check the basic info of the dataframe\n",
    "print(df.info())\n",
    "\n",
    "# Check for any missing values\n",
    "print(df.isnull().sum())\n",
    "\n",
    "# Investigate the id column\n",
    "# Count the number of viewers and clickers\n",
    "viewers = df[df['action'] == 'view']\n",
    "clickers = df[df['action'] == 'click']\n",
    "print(\"Number of viewers:\", len(viewers))\n",
    "print(\"Number of clickers:\", len(clickers))\n",
    "\n",
    "# Check for anomalies\n",
    "anomalies = df[(df['action'] == 'click') & ~(df['id'].isin(viewers['id']))]\n",
    "print(\"Anomalies:\", anomalies)\n",
    "\n",
    "# Check for overlap between control and experiment groups\n",
    "control_group = df[df['group'] == 'control']\n",
    "experiment_group = df[df['group'] == 'experiment']\n",
    "overlap = len(set(control_group['id']).intersection(experiment_group['id']))\n",
    "print(\"Overlap between control and experiment groups:\", overlap)\n",
    "\n"
   ]
  },
  {
   "cell_type": "markdown",
   "metadata": {},
   "source": [
    "## Conduct a Statistical Test\n",
    "\n",
    "Conduct a statistical test to determine whether the experimental homepage was more effective than that of the control group."
   ]
  },
  {
   "cell_type": "code",
   "execution_count": 12,
   "metadata": {},
   "outputs": [
    {
     "name": "stdout",
     "output_type": "stream",
     "text": [
      "Overlap between control and experiment groups: 0\n",
      "No statistically significant difference found.\n"
     ]
    },
    {
     "name": "stderr",
     "output_type": "stream",
     "text": [
      "C:\\Users\\Administrator\\anaconda3\\Lib\\site-packages\\scipy\\stats\\_axis_nan_policy.py:523: RuntimeWarning: Precision loss occurred in moment calculation due to catastrophic cancellation. This occurs when the data are nearly identical. Results may be unreliable.\n",
      "  res = hypotest_fun_out(*samples, **kwds)\n"
     ]
    }
   ],
   "source": [
    "print(\"Overlap between control and experiment groups:\", overlap)\n",
    "\n",
    "# Conduct a statistical test\n",
    "control_clicks = control_group[control_group['action'] == 'click']\n",
    "experiment_clicks = experiment_group[experiment_group['action'] == 'click']\n",
    "\n",
    "# Perform t-test\n",
    "t_stat, p_val = ttest_ind(control_clicks['id'].value_counts(), experiment_clicks['id'].value_counts())\n",
    "\n",
    "# Output results\n",
    "if p_val < 0.05:\n",
    "    print(\"Statistically significant difference: Experimental homepage was more effective.\")\n",
    "else:\n",
    "    print(\"No statistically significant difference found.\")\n",
    "\n",
    "\n"
   ]
  },
  {
   "cell_type": "markdown",
   "metadata": {},
   "source": [
    "## Verifying Results\n",
    "\n",
    "One sensible formulation of the data to answer the hypothesis test above would be to create a binary variable representing each individual in the experiment and control group. This binary variable would represent whether or not that individual clicked on the homepage; 1 for they did and 0 if they did not. \n",
    "\n",
    "The variance for the number of successes in a sample of a binomial variable with n observations is given by:\n",
    "\n",
    "## $n\\bullet p (1-p)$\n",
    "\n",
    "Given this, perform 3 steps to verify the results of your statistical test:\n",
    "1. Calculate the expected number of clicks for the experiment group, if it had the same click-through rate as that of the control group. \n",
    "2. Calculate the number of standard deviations that the actual number of clicks was from this estimate. \n",
    "3. Finally, calculate a p-value using the normal distribution based on this z-score."
   ]
  },
  {
   "cell_type": "markdown",
   "metadata": {},
   "source": [
    "### Step 1:\n",
    "Calculate the expected number of clicks for the experiment group, if it had the same click-through rate as that of the control group. "
   ]
  },
  {
   "cell_type": "code",
   "execution_count": 16,
   "metadata": {},
   "outputs": [],
   "source": [
    "\n",
    "# Step 1: Calculate expected clicks in experiment group with control group's rate\n",
    "control_ctr = len(control_clicks) / len(control_group)  # Calculate control group click-through rate\n",
    "expected_clicks_in_exp = control_ctr * len(experiment_group)  # Calculate expected clicks in experiment group\n",
    "\n",
    "\n"
   ]
  },
  {
   "cell_type": "markdown",
   "metadata": {},
   "source": [
    "### Step 2:\n",
    "Calculate the number of standard deviations that the actual number of clicks was from this estimate."
   ]
  },
  {
   "cell_type": "code",
   "execution_count": 17,
   "metadata": {},
   "outputs": [
    {
     "ename": "NameError",
     "evalue": "name 'experiment_clicks_count' is not defined",
     "output_type": "error",
     "traceback": [
      "\u001b[1;31m---------------------------------------------------------------------------\u001b[0m",
      "\u001b[1;31mNameError\u001b[0m                                 Traceback (most recent call last)",
      "Cell \u001b[1;32mIn[17], line 3\u001b[0m\n\u001b[0;32m      1\u001b[0m \u001b[38;5;66;03m#Your code here# Step 2: Calculate standard deviations from expected value\u001b[39;00m\n\u001b[0;32m      2\u001b[0m std_dev \u001b[38;5;241m=\u001b[39m np\u001b[38;5;241m.\u001b[39msqrt(expected_clicks_in_exp \u001b[38;5;241m*\u001b[39m (\u001b[38;5;241m1\u001b[39m \u001b[38;5;241m-\u001b[39m expected_clicks_in_exp \u001b[38;5;241m/\u001b[39m \u001b[38;5;28mlen\u001b[39m(experiment_group)))\n\u001b[1;32m----> 3\u001b[0m z_score \u001b[38;5;241m=\u001b[39m (experiment_clicks_count \u001b[38;5;241m-\u001b[39m expected_clicks_in_exp) \u001b[38;5;241m/\u001b[39m std_dev\n",
      "\u001b[1;31mNameError\u001b[0m: name 'experiment_clicks_count' is not defined"
     ]
    }
   ],
   "source": [
    "#Your code here# Step 2: Calculate standard deviations from expected value\n",
    "std_dev = np.sqrt(expected_clicks_in_exp * (1 - expected_clicks_in_exp / len(experiment_group)))\n",
    "z_score = (experiment_clicks_count - expected_clicks_in_exp) / std_dev  # Calculate z-score using provided variable\n",
    "\n",
    "\n"
   ]
  },
  {
   "cell_type": "markdown",
   "metadata": {},
   "source": [
    "### Step 3: \n",
    "Finally, calculate a p-value using the normal distribution based on this z-score."
   ]
  },
  {
   "cell_type": "code",
   "execution_count": 18,
   "metadata": {},
   "outputs": [
    {
     "ename": "NameError",
     "evalue": "name 'z_score' is not defined",
     "output_type": "error",
     "traceback": [
      "\u001b[1;31m---------------------------------------------------------------------------\u001b[0m",
      "\u001b[1;31mNameError\u001b[0m                                 Traceback (most recent call last)",
      "Cell \u001b[1;32mIn[18], line 5\u001b[0m\n\u001b[0;32m      1\u001b[0m \u001b[38;5;66;03m#Your code here\u001b[39;00m\n\u001b[0;32m      2\u001b[0m \u001b[38;5;66;03m# Calculate the p-value using the normal distribution\u001b[39;00m\n\u001b[0;32m      3\u001b[0m \u001b[38;5;28;01mfrom\u001b[39;00m \u001b[38;5;21;01mscipy\u001b[39;00m\u001b[38;5;21;01m.\u001b[39;00m\u001b[38;5;21;01mstats\u001b[39;00m \u001b[38;5;28;01mimport\u001b[39;00m norm\n\u001b[1;32m----> 5\u001b[0m p_value \u001b[38;5;241m=\u001b[39m \u001b[38;5;241m2\u001b[39m \u001b[38;5;241m*\u001b[39m norm\u001b[38;5;241m.\u001b[39mcdf(\u001b[38;5;241m-\u001b[39m\u001b[38;5;28mabs\u001b[39m(z_score))\n",
      "\u001b[1;31mNameError\u001b[0m: name 'z_score' is not defined"
     ]
    }
   ],
   "source": [
    "#Your code here\n",
    "# Calculate the p-value using the normal distribution\n",
    "from scipy.stats import norm\n",
    "\n",
    "p_value = 2 * norm.cdf(-abs(z_score))\n"
   ]
  },
  {
   "cell_type": "markdown",
   "metadata": {},
   "source": [
    "### Analysis:\n",
    "\n",
    "Does this result roughly match that of the previous statistical test?\n",
    "\n",
    "> Comment: **Your analysis here**"
   ]
  },
  {
   "cell_type": "markdown",
   "metadata": {},
   "source": [
    "## Summary\n",
    "\n",
    "In this lab, you continued to get more practice designing and conducting AB tests. This required additional work preprocessing and formulating the initial problem in a suitable manner. Additionally, you also saw how to verify results, strengthening your knowledge of binomial variables, and reviewing initial statistical concepts of the central limit theorem, standard deviation, z-scores, and their accompanying p-values."
   ]
  }
 ],
 "metadata": {
  "kernelspec": {
   "display_name": "Python 3 (ipykernel)",
   "language": "python",
   "name": "python3"
  },
  "language_info": {
   "codemirror_mode": {
    "name": "ipython",
    "version": 3
   },
   "file_extension": ".py",
   "mimetype": "text/x-python",
   "name": "python",
   "nbconvert_exporter": "python",
   "pygments_lexer": "ipython3",
   "version": "3.11.5"
  }
 },
 "nbformat": 4,
 "nbformat_minor": 2
}
